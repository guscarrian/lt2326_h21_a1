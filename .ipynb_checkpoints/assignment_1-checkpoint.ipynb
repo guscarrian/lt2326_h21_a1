{
 "cells": [
  {
   "cell_type": "code",
   "execution_count": 1,
   "id": "bd5f17e8",
   "metadata": {},
   "outputs": [],
   "source": [
    "import json\n",
    "import os\n",
    "from sklearn.model_selection import train_test_split"
   ]
  },
  {
   "cell_type": "code",
   "execution_count": 2,
   "id": "03f2289f",
   "metadata": {},
   "outputs": [],
   "source": [
    "#'/scratch/lt2326-h21/a1/images'\n",
    "#'/scratch/lt2326-h21/a1/train.jsonl'\n",
    "#'/scratch/lt2326-h21/a1/info.json'"
   ]
  },
  {
   "cell_type": "code",
   "execution_count": 3,
   "id": "340c60bb",
   "metadata": {},
   "outputs": [],
   "source": [
    "images = os.listdir('/scratch/lt2326-h21/a1/images') #List of files in the images folder"
   ]
  },
  {
   "cell_type": "code",
   "execution_count": 4,
   "id": "b6704cc5",
   "metadata": {},
   "outputs": [],
   "source": [
    "#images"
   ]
  },
  {
   "cell_type": "code",
   "execution_count": 5,
   "id": "536aede7",
   "metadata": {},
   "outputs": [
    {
     "data": {
      "text/plain": [
       "1000"
      ]
     },
     "execution_count": 5,
     "metadata": {},
     "output_type": "execute_result"
    }
   ],
   "source": [
    "len(images)"
   ]
  },
  {
   "cell_type": "code",
   "execution_count": 6,
   "id": "3002ae62",
   "metadata": {},
   "outputs": [],
   "source": [
    "#train_file = json.load(open('/scratch/lt2326-h21/a1/train.jsonl'))\n",
    "\n",
    "with open('/scratch/lt2326-h21/a1/train.jsonl') as train_file:\n",
    "    train_data = [json.loads(x) for x in train_file]"
   ]
  },
  {
   "cell_type": "code",
   "execution_count": 7,
   "id": "446653ae",
   "metadata": {},
   "outputs": [],
   "source": [
    "#train_data  #COLAPSA"
   ]
  },
  {
   "cell_type": "code",
   "execution_count": 8,
   "id": "70d33de7",
   "metadata": {},
   "outputs": [
    {
     "data": {
      "text/plain": [
       "dict_keys(['annotations', 'file_name', 'height', 'ignore', 'image_id', 'width'])"
      ]
     },
     "execution_count": 8,
     "metadata": {},
     "output_type": "execute_result"
    }
   ],
   "source": [
    "train_data[0].keys()"
   ]
  },
  {
   "cell_type": "code",
   "execution_count": 9,
   "id": "526968e7",
   "metadata": {},
   "outputs": [],
   "source": [
    "info_file = json.load(open('/scratch/lt2326-h21/a1/info.json'))"
   ]
  },
  {
   "cell_type": "code",
   "execution_count": 10,
   "id": "2762ac7b",
   "metadata": {},
   "outputs": [],
   "source": [
    "#info_file"
   ]
  },
  {
   "cell_type": "code",
   "execution_count": 11,
   "id": "86b6661f",
   "metadata": {},
   "outputs": [
    {
     "data": {
      "text/plain": [
       "dict_keys(['test_cls', 'test_det', 'train', 'val'])"
      ]
     },
     "execution_count": 11,
     "metadata": {},
     "output_type": "execute_result"
    }
   ],
   "source": [
    "info_file.keys()"
   ]
  },
  {
   "cell_type": "code",
   "execution_count": 12,
   "id": "797804c7",
   "metadata": {},
   "outputs": [],
   "source": [
    "#list of images used for training listed in the info file\n",
    "train_items = info_file['train']"
   ]
  },
  {
   "cell_type": "code",
   "execution_count": 13,
   "id": "d684fbd3",
   "metadata": {},
   "outputs": [],
   "source": [
    "#train_items"
   ]
  },
  {
   "cell_type": "code",
   "execution_count": 14,
   "id": "f8f34721",
   "metadata": {},
   "outputs": [
    {
     "data": {
      "text/plain": [
       "24290"
      ]
     },
     "execution_count": 14,
     "metadata": {},
     "output_type": "execute_result"
    }
   ],
   "source": [
    "len(train_items)"
   ]
  },
  {
   "cell_type": "code",
   "execution_count": 15,
   "id": "c89b3826",
   "metadata": {},
   "outputs": [
    {
     "name": "stdout",
     "output_type": "stream",
     "text": [
      "24290\n"
     ]
    }
   ],
   "source": [
    "train_filenames = [] #list of filenames in info.json\n",
    "for item in train_items: #info_file['train']\n",
    "    #print('item:', item)\n",
    "    filename = item['file_name'] #only adding the filename to the list\n",
    "    train_filenames.append(filename)\n",
    "\n",
    "print(len(train_filenames))\n",
    "\n",
    "#print(train_filenames)"
   ]
  },
  {
   "cell_type": "code",
   "execution_count": 16,
   "id": "a4d7c7ef",
   "metadata": {},
   "outputs": [
    {
     "name": "stdout",
     "output_type": "stream",
     "text": [
      "1597\n",
      "3129\n",
      "3269\n"
     ]
    }
   ],
   "source": [
    "val_items = info_file['val']\n",
    "print(len(val_items))\n",
    "\n",
    "testdet_items = info_file['test_det']\n",
    "print(len(testdet_items))\n",
    "\n",
    "testcls_items = info_file['test_cls']\n",
    "print(len(testcls_items))"
   ]
  },
  {
   "cell_type": "code",
   "execution_count": 17,
   "id": "6eb781c3",
   "metadata": {},
   "outputs": [
    {
     "name": "stdout",
     "output_type": "stream",
     "text": [
      "845\n"
     ]
    }
   ],
   "source": [
    "#check which filenames (train) from info.json (24290) are included in the image directory (1000),\n",
    "#in other words, which files from the 'images' directory come from the train.jsonl file\n",
    "\n",
    "final_files = []\n",
    "for item in train_filenames:\n",
    "    if item in images:\n",
    "        final_files.append(item)\n",
    "\n",
    "print(len(final_files)) #There are 845 training images we'll be using"
   ]
  },
  {
   "cell_type": "code",
   "execution_count": 18,
   "id": "a9e7fd46",
   "metadata": {},
   "outputs": [
    {
     "name": "stdout",
     "output_type": "stream",
     "text": [
      "676\n",
      "84\n",
      "85\n"
     ]
    }
   ],
   "source": [
    "#Next we shuffle and split our data into training, testing and validation datasets (80%, 10%, 10% respectively)\n",
    "#We will use sklearn.model_selection\n",
    "\n",
    "train_data, leftover = train_test_split(final_files, train_size=0.8)\n",
    "test_data, val_data = train_test_split(leftover, test_size=0.5)\n",
    "\n",
    "print(len(train_data))\n",
    "print(len(test_data))\n",
    "print(len(val_data))"
   ]
  },
  {
   "cell_type": "code",
   "execution_count": null,
   "id": "ca0de70f",
   "metadata": {},
   "outputs": [],
   "source": []
  }
 ],
 "metadata": {
  "kernelspec": {
   "display_name": "Python 3 (ipykernel)",
   "language": "python",
   "name": "python3"
  },
  "language_info": {
   "codemirror_mode": {
    "name": "ipython",
    "version": 3
   },
   "file_extension": ".py",
   "mimetype": "text/x-python",
   "name": "python",
   "nbconvert_exporter": "python",
   "pygments_lexer": "ipython3",
   "version": "3.9.6"
  }
 },
 "nbformat": 4,
 "nbformat_minor": 5
}
